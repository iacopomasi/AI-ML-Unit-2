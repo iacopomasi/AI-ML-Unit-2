{
 "cells": [
  {
   "cell_type": "code",
   "execution_count": 2,
   "id": "561c5e68-dbc1-4fc3-b96f-89c01bafe9af",
   "metadata": {},
   "outputs": [],
   "source": [
    "# CATEGORICAL FEATURES\n",
    "# One common type of non-numerical data is categorical data. For example,\n",
    "# imagine you are exploring some data on housing prices, and along with\n",
    "# numerical features like \"price\" and \"rooms\", you also have \"neighborhood\"\n",
    "# information. For example, your data might look something like this:\n",
    "data = [\n",
    "    {'price': 850000, 'rooms': 4, 'neighborhood': 'Salario'},\n",
    "    {'price': 700000, 'rooms': 3, 'neighborhood': 'Tiburtina'},\n",
    "    {'price': 650000, 'rooms': 3, 'neighborhood': 'Monti'},\n",
    "    {'price': 600000, 'rooms': 2, 'neighborhood': 'Tiburtina'}\n",
    "]\n",
    "# One proven technique to encode the 'neighborhood' column as numerical would \n",
    "# be to use one-hot-encoding, which effectively creates extra columns \n",
    "# indicating the presence or absence of a category with a value of 1 or 0,\n",
    "# respectively. When your data comes as a list of dictionaries, scikit-learn's\n",
    "# DickVectorizer will do this for you."
   ]
  },
  {
   "cell_type": "code",
   "execution_count": 3,
   "id": "c68a04cd-2e83-4053-8320-1bf7fb947fec",
   "metadata": {},
   "outputs": [
    {
     "data": {
      "text/plain": [
       "array([[     0,      1,      0, 850000,      4],\n",
       "       [     0,      0,      1, 700000,      3],\n",
       "       [     1,      0,      0, 650000,      3],\n",
       "       [     0,      0,      1, 600000,      2]])"
      ]
     },
     "execution_count": 3,
     "metadata": {},
     "output_type": "execute_result"
    }
   ],
   "source": [
    "from sklearn.feature_extraction import DictVectorizer\n",
    "vec = DictVectorizer(sparse = False, dtype = int)\n",
    "vec.fit_transform(data)"
   ]
  },
  {
   "cell_type": "code",
   "execution_count": 4,
   "id": "5d09c06f-2d0f-4bed-b2e3-7aff41dcc224",
   "metadata": {},
   "outputs": [
    {
     "data": {
      "text/plain": [
       "['neighborhood=Monti',\n",
       " 'neighborhood=Salario',\n",
       " 'neighborhood=Tiburtina',\n",
       " 'price',\n",
       " 'rooms']"
      ]
     },
     "execution_count": 4,
     "metadata": {},
     "output_type": "execute_result"
    }
   ],
   "source": [
    "# Notice that the -neighborhood- column has been expanded into three separate\n",
    "# columns, representing the three neighborhood labels, and that each row has\n",
    "# a 1 in the column associated with its neighborhood. With these categorical \n",
    "# features thus encoded, you can procees as normal with fitting a scikit-learn\n",
    "# model. To see the meaning of each column, you can inspect the feature names.\n",
    "vec.feature_names_"
   ]
  },
  {
   "cell_type": "code",
   "execution_count": 5,
   "id": "14a16401-01de-4149-8c69-d6da1abd0377",
   "metadata": {},
   "outputs": [
    {
     "data": {
      "text/plain": [
       "<4x5 sparse matrix of type '<class 'numpy.int64'>'\n",
       "\twith 12 stored elements in Compressed Sparse Row format>"
      ]
     },
     "execution_count": 5,
     "metadata": {},
     "output_type": "execute_result"
    }
   ],
   "source": [
    "# There is one clear disadvantage of this approach: if your category has many\n",
    "# possible values, this can greatly increase the size of your dataset.\n",
    "# However, because the encoded data contains mostly zeros, a sparse output\n",
    "# can be a very efficient solution.\n",
    "vec = DictVectorizer(sparse = True, dtype = int)\n",
    "vec.fit_transform(data)"
   ]
  },
  {
   "cell_type": "code",
   "execution_count": 6,
   "id": "3240ecfb-324b-45e8-9b55-89b7be923497",
   "metadata": {},
   "outputs": [],
   "source": [
    "# TEXT FEATURES\n",
    "# Another common need in feature engineering is to convert text to a set of\n",
    "# representative numerical values. For example, most automatic mining of\n",
    "# social media data relies on some form of encoding the text as numbers. One\n",
    "# of the simplest methods of encoding data is by -word counts-: you take each\n",
    "# snippet of text, count the occurrences of each word within it, and put the\n",
    "# results in a table.\n",
    "sample = ['problem of evil', \n",
    "          'evil queen',\n",
    "          'horizon problem']"
   ]
  },
  {
   "cell_type": "code",
   "execution_count": 7,
   "id": "f1e77637-869e-409f-99a8-c4bdce981522",
   "metadata": {},
   "outputs": [
    {
     "data": {
      "text/plain": [
       "<3x5 sparse matrix of type '<class 'numpy.int64'>'\n",
       "\twith 7 stored elements in Compressed Sparse Row format>"
      ]
     },
     "execution_count": 7,
     "metadata": {},
     "output_type": "execute_result"
    }
   ],
   "source": [
    "# For a vectorization of this data based on word count, we could construct a\n",
    "# column representing the word \"problem\", the word \"evil\", the word \"horizon\",\n",
    "# and so on. While doing this by hand would be possible, we can avoid the \n",
    "# tedium by using scikit-learn CountVectorizer.\n",
    "from sklearn.feature_extraction.text import CountVectorizer\n",
    "vec = CountVectorizer()\n",
    "X = vec.fit_transform(sample)\n",
    "X"
   ]
  },
  {
   "cell_type": "code",
   "execution_count": 8,
   "id": "3fee45b0-69a4-4040-b73a-ad988100a029",
   "metadata": {},
   "outputs": [
    {
     "data": {
      "text/html": [
       "<div>\n",
       "<style scoped>\n",
       "    .dataframe tbody tr th:only-of-type {\n",
       "        vertical-align: middle;\n",
       "    }\n",
       "\n",
       "    .dataframe tbody tr th {\n",
       "        vertical-align: top;\n",
       "    }\n",
       "\n",
       "    .dataframe thead th {\n",
       "        text-align: right;\n",
       "    }\n",
       "</style>\n",
       "<table border=\"1\" class=\"dataframe\">\n",
       "  <thead>\n",
       "    <tr style=\"text-align: right;\">\n",
       "      <th></th>\n",
       "      <th>evil</th>\n",
       "      <th>horizon</th>\n",
       "      <th>of</th>\n",
       "      <th>problem</th>\n",
       "      <th>queen</th>\n",
       "    </tr>\n",
       "  </thead>\n",
       "  <tbody>\n",
       "    <tr>\n",
       "      <th>0</th>\n",
       "      <td>1</td>\n",
       "      <td>0</td>\n",
       "      <td>1</td>\n",
       "      <td>1</td>\n",
       "      <td>0</td>\n",
       "    </tr>\n",
       "    <tr>\n",
       "      <th>1</th>\n",
       "      <td>1</td>\n",
       "      <td>0</td>\n",
       "      <td>0</td>\n",
       "      <td>0</td>\n",
       "      <td>1</td>\n",
       "    </tr>\n",
       "    <tr>\n",
       "      <th>2</th>\n",
       "      <td>0</td>\n",
       "      <td>1</td>\n",
       "      <td>0</td>\n",
       "      <td>1</td>\n",
       "      <td>0</td>\n",
       "    </tr>\n",
       "  </tbody>\n",
       "</table>\n",
       "</div>"
      ],
      "text/plain": [
       "   evil  horizon  of  problem  queen\n",
       "0     1        0   1        1      0\n",
       "1     1        0   0        0      1\n",
       "2     0        1   0        1      0"
      ]
     },
     "execution_count": 8,
     "metadata": {},
     "output_type": "execute_result"
    }
   ],
   "source": [
    "# The result is a sparse matrix recording the number of times each word \n",
    "# appears; it is easier to inspect if we convert this to a DataFrame with\n",
    "# labeled columns:\n",
    "import pandas as pd\n",
    "pd.DataFrame(X.toarray(), columns = vec.get_feature_names_out())"
   ]
  },
  {
   "cell_type": "code",
   "execution_count": 9,
   "id": "29fdcd19-7ea8-48e5-8a95-22fc20227a55",
   "metadata": {},
   "outputs": [
    {
     "data": {
      "text/html": [
       "<div>\n",
       "<style scoped>\n",
       "    .dataframe tbody tr th:only-of-type {\n",
       "        vertical-align: middle;\n",
       "    }\n",
       "\n",
       "    .dataframe tbody tr th {\n",
       "        vertical-align: top;\n",
       "    }\n",
       "\n",
       "    .dataframe thead th {\n",
       "        text-align: right;\n",
       "    }\n",
       "</style>\n",
       "<table border=\"1\" class=\"dataframe\">\n",
       "  <thead>\n",
       "    <tr style=\"text-align: right;\">\n",
       "      <th></th>\n",
       "      <th>evil</th>\n",
       "      <th>horizon</th>\n",
       "      <th>of</th>\n",
       "      <th>problem</th>\n",
       "      <th>queen</th>\n",
       "    </tr>\n",
       "  </thead>\n",
       "  <tbody>\n",
       "    <tr>\n",
       "      <th>0</th>\n",
       "      <td>0.517856</td>\n",
       "      <td>0.000000</td>\n",
       "      <td>0.680919</td>\n",
       "      <td>0.517856</td>\n",
       "      <td>0.000000</td>\n",
       "    </tr>\n",
       "    <tr>\n",
       "      <th>1</th>\n",
       "      <td>0.605349</td>\n",
       "      <td>0.000000</td>\n",
       "      <td>0.000000</td>\n",
       "      <td>0.000000</td>\n",
       "      <td>0.795961</td>\n",
       "    </tr>\n",
       "    <tr>\n",
       "      <th>2</th>\n",
       "      <td>0.000000</td>\n",
       "      <td>0.795961</td>\n",
       "      <td>0.000000</td>\n",
       "      <td>0.605349</td>\n",
       "      <td>0.000000</td>\n",
       "    </tr>\n",
       "  </tbody>\n",
       "</table>\n",
       "</div>"
      ],
      "text/plain": [
       "       evil   horizon        of   problem     queen\n",
       "0  0.517856  0.000000  0.680919  0.517856  0.000000\n",
       "1  0.605349  0.000000  0.000000  0.000000  0.795961\n",
       "2  0.000000  0.795961  0.000000  0.605349  0.000000"
      ]
     },
     "execution_count": 9,
     "metadata": {},
     "output_type": "execute_result"
    }
   ],
   "source": [
    "# There are some issues with this approach, however: the raw word counts lead\n",
    "# to features that put too much weight on words that appear very frequently,\n",
    "# and this can be suboptimal in some classification algorithms. One approach \n",
    "# to fix this is known as \"term frequency-inverse document frequency (TF-IDF)\"\n",
    "# , which weights the word counts by a measure of how often they appear in\n",
    "# the documents. The syntax for computing these features is similar to the \n",
    "# previous example:\n",
    "from sklearn.feature_extraction.text import TfidfVectorizer\n",
    "vec = TfidfVectorizer()\n",
    "X = vec.fit_transform(sample)\n",
    "pd.DataFrame(X.toarray(), columns = vec.get_feature_names_out())"
   ]
  },
  {
   "cell_type": "code",
   "execution_count": 10,
   "id": "7cc5f2b4-681d-4a64-a981-15cd023b3203",
   "metadata": {},
   "outputs": [
    {
     "data": {
      "image/png": "[encoded data removed]",
      "text/plain": [
       "<Figure size 640x480 with 1 Axes>"
      ]
     },
     "metadata": {},
     "output_type": "display_data"
    }
   ],
   "source": [
    "# DERIVED FEATURES\n",
    "# Another useful type of feature is one that is mathematically derived from\n",
    "# some input features, such as constructing polynomial features fron our input\n",
    "# data (when a simple linear regression might lead to a heavy biased model).\n",
    "# We know that we can convert a linear regression into a polynomial\n",
    "# regression not by changing the model, but by transforming the input! this\n",
    "# is sometimes known as \"basis function regression\". For example, the\n",
    "# following data cannot be well described by a straight line.\n",
    "%matplotlib inline\n",
    "import numpy as np\n",
    "import matplotlib.pyplot as plt\n",
    "plt.style.use('dark_background')\n",
    "x = np.array([1,2,3,4,5])\n",
    "y = np.array([4,2,1,3,7])\n",
    "plt.scatter(x, y);"
   ]
  },
  {
   "cell_type": "code",
   "execution_count": 11,
   "id": "d8407415-8492-4d1e-ac7b-cf3395db8bf4",
   "metadata": {},
   "outputs": [
    {
     "data": {
      "image/png": "[encoded data removed]",
      "text/plain": [
       "<Figure size 640x480 with 1 Axes>"
      ]
     },
     "metadata": {},
     "output_type": "display_data"
    }
   ],
   "source": [
    "# Still, we can fit a line to the data using LinearRegression and get the \n",
    "# optimal result.\n",
    "from sklearn.linear_model import LinearRegression\n",
    "X = x[:, np.newaxis]\n",
    "model = LinearRegression().fit(X, y)\n",
    "yfit = model.predict(X)\n",
    "plt.scatter(x, y)\n",
    "plt.plot(x, yfit);"
   ]
  },
  {
   "cell_type": "code",
   "execution_count": 12,
   "id": "bdd9b3f2-7976-45b5-aec9-4b4e676a2f5d",
   "metadata": {},
   "outputs": [
    {
     "name": "stdout",
     "output_type": "stream",
     "text": [
      "[[  1.   1.   1.]\n",
      " [  2.   4.   8.]\n",
      " [  3.   9.  27.]\n",
      " [  4.  16.  64.]\n",
      " [  5.  25. 125.]]\n"
     ]
    }
   ],
   "source": [
    "# It's clear that we need a more sophisticated model to describe the \n",
    "# relationship between x and y. We can do this by transforming the data,\n",
    "# adding extra columns of features to drive more flexibility in the model.\n",
    "# For example, we can add polynomial features to the data this way:\n",
    "from sklearn.preprocessing import PolynomialFeatures\n",
    "poly = PolynomialFeatures(degree = 3, include_bias = False)\n",
    "X2 = poly.fit_transform(X)\n",
    "print(X2)"
   ]
  },
  {
   "cell_type": "code",
   "execution_count": 13,
   "id": "79f44f84-7c3a-4182-942e-5454ece12127",
   "metadata": {},
   "outputs": [
    {
     "data": {
      "image/png": "[encoded data removed]",
      "text/plain": [
       "<Figure size 640x480 with 1 Axes>"
      ]
     },
     "metadata": {},
     "output_type": "display_data"
    }
   ],
   "source": [
    "# The derived feature matrix has one column representig x, and a second\n",
    "# column representing x^2, and a third column representing x^3. Computing a\n",
    "# linear regression on this expanded input gives a much closer fit to our\n",
    "# data.\n",
    "model = LinearRegression().fit(X2, y)\n",
    "yfit = model.predict(X2)\n",
    "plt.scatter(x, y)\n",
    "plt.plot(x, yfit);\n",
    "# This idea of improving a model not by changing the model, but by\n",
    "# transforming the inputs, is fundamental to many of the more powerful \n",
    "# machine learning methods. More generally, this is one motivation path to\n",
    "# the powerful set of techniques known as kernel methods."
   ]
  },
  {
   "cell_type": "code",
   "execution_count": 14,
   "id": "ce302569-f848-4031-9531-d7c7ca9569c6",
   "metadata": {},
   "outputs": [],
   "source": [
    "# IMPUTATION OF MISSING DATA\n",
    "# Another common need in feature engineering is handling missing data. For \n",
    "# example, we might have a dataset that looks like this:\n",
    "from numpy import nan\n",
    "X = np.array([[nan, 0, 3],\n",
    "            [3, 7, 9],\n",
    "            [3, 5, 2],\n",
    "            [4, nan, 6],\n",
    "            [8, 8, 1]])\n",
    "y = np.array([14, 16, -1, 8, -5])\n",
    "# When applying a typical machine learning moddel to such data, we will\n",
    "# need to first replace such missing data with some appropriate fill value.\n",
    "# This is known as imputation of missing values, and strategies range from \n",
    "# simple (e.g. replacing missing values with the mean of the column) to\n",
    "# sophisticated (e.g. using matrix completion or a robus model to handle \n",
    "# such data)"
   ]
  },
  {
   "cell_type": "code",
   "execution_count": 15,
   "id": "c232addd-46e5-44ce-8b37-4441bdf31e8e",
   "metadata": {},
   "outputs": [
    {
     "data": {
      "text/plain": [
       "array([[4.5, 0. , 3. ],\n",
       "       [3. , 7. , 9. ],\n",
       "       [3. , 5. , 2. ],\n",
       "       [4. , 5. , 6. ],\n",
       "       [8. , 8. , 1. ]])"
      ]
     },
     "execution_count": 15,
     "metadata": {},
     "output_type": "execute_result"
    }
   ],
   "source": [
    "# The sophisticated approaches tend to be very application-specific, and we\n",
    "# won't dive into them here. For a baseline imputation approach, using the\n",
    "# mean, median or most frequent value, scikit-learn provides the Imputer \n",
    "# class.\n",
    "from sklearn.impute import SimpleImputer\n",
    "imp = SimpleImputer(strategy = 'mean')\n",
    "X2 = imp.fit_transform(X)\n",
    "X2"
   ]
  },
  {
   "cell_type": "code",
   "execution_count": 16,
   "id": "d9c448a6-b2c0-40d3-906f-6b4d5cbb82ab",
   "metadata": {},
   "outputs": [
    {
     "data": {
      "text/plain": [
       "array([13.14869292, 14.3784627 , -1.15539732, 10.96606197, -5.33782027])"
      ]
     },
     "execution_count": 16,
     "metadata": {},
     "output_type": "execute_result"
    }
   ],
   "source": [
    "# We see that in the resulting data, the two missing values have been\n",
    "# replaced with the mean of the remaining values in the column. This\n",
    "# imputed data can then be fed directly into, for example, a\n",
    "# LinearRegression estimator.\n",
    "model = LinearRegression().fit(X2, y)\n",
    "model.predict(X2)"
   ]
  },
  {
   "cell_type": "code",
   "execution_count": 17,
   "id": "bb2fdb9f-7def-4d11-930b-09f6480f8108",
   "metadata": {},
   "outputs": [],
   "source": [
    "# FEATURE PIPELINES\n",
    "# With any of the preceding examples, it can quickly become tedious to do\n",
    "# the transformations by hand, especially if you wish to string together\n",
    "# multiple steps. For example, we might want a processing pipeline that\n",
    "# looks something like this: \n",
    "# 1. Impute missing values using the mean \n",
    "# 2. Transform features to quadratic \n",
    "# 3. Fit a linear regression\n",
    "# To streamline this type of processing pipeline, Scikit-Learn provides a\n",
    "# pipeline object.\n",
    "from sklearn.pipeline import make_pipeline\n",
    "model = make_pipeline(SimpleImputer(strategy = 'mean'),\n",
    "                      PolynomialFeatures(degree = 2),\n",
    "                      LinearRegression())"
   ]
  },
  {
   "cell_type": "code",
   "execution_count": 18,
   "id": "683554b0-c5e1-48c4-bdc1-4f16f1b7a32c",
   "metadata": {},
   "outputs": [
    {
     "name": "stdout",
     "output_type": "stream",
     "text": [
      "[14 16 -1  8 -5]\n",
      "[14. 16. -1.  8. -5.]\n"
     ]
    }
   ],
   "source": [
    "# This pipeline looks and acts like a standard scikit-kearn object, and\n",
    "# will apply all the sprcified steps to any input data.\n",
    "model.fit(X, y)    # X with missing values, from above...\n",
    "print(y)\n",
    "print(model.predict(X))\n",
    "# All the steps of the model are applied automatically. NOTICE that for the\n",
    "# simplicity of the demonstration, we have applied the mode to the data it\n",
    "# was trained on (big NO NO), and this is why it was able to perfectly\n",
    "# predict the results."
   ]
  }
 ],
 "metadata": {
  "kernelspec": {
   "display_name": "Python 3 (ipykernel)",
   "language": "python",
   "name": "python3"
  },
  "language_info": {
   "codemirror_mode": {
    "name": "ipython",
    "version": 3
   },
   "file_extension": ".py",
   "mimetype": "text/x-python",
   "name": "python",
   "nbconvert_exporter": "python",
   "pygments_lexer": "ipython3",
   "version": "3.12.3"
  }
 },
 "nbformat": 4,
 "nbformat_minor": 5
}
